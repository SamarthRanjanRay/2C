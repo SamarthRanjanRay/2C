{
  "nbformat": 4,
  "nbformat_minor": 0,
  "metadata": {
    "colab": {
      "name": "Untitled1.ipynb",
      "provenance": [],
      "authorship_tag": "ABX9TyPRZLkZYqR0q/NnriDptdD1",
      "include_colab_link": true
    },
    "kernelspec": {
      "name": "python3",
      "display_name": "Python 3"
    },
    "language_info": {
      "name": "python"
    }
  },
  "cells": [
    {
      "cell_type": "markdown",
      "metadata": {
        "id": "view-in-github",
        "colab_type": "text"
      },
      "source": [
        "<a href=\"https://colab.research.google.com/github/SamarthRanjanRay/2C/blob/master/Untitled1.ipynb\" target=\"_parent\"><img src=\"https://colab.research.google.com/assets/colab-badge.svg\" alt=\"Open In Colab\"/></a>"
      ]
    },
    {
      "cell_type": "code",
      "metadata": {
        "id": "DHWIP4N9z6Lb"
      },
      "source": [
        "import numpy as np\n",
        "\n",
        "X = np.array(([2,3],[1,5],[6,9]), dtype=float)\n",
        "y = np.array(([99], [85], [90]),dtype=float)\n",
        "deno = np.amax(X, axis = 0)\n",
        "X = X/deno\n",
        "print(X)\n",
        "\n",
        "iterations = 100\n",
        "input_n = 2\n",
        "hidden_n = 3\n",
        "output_n = 1\n",
        "error_rate = 0.2\n",
        "\n",
        "hidden_w = np.random.uniform(size=(input_n, hidden_n))\n",
        "hidden_b = np.random.uniform(size=(1, hidden_n))\n",
        "output_w = np.random.uniform(size=(hidden_n, output_n))\n",
        "output_b = np.random.uniform(size=(1, output_n))\n",
        "\n",
        "def sigmoid(x) :\n",
        "  return 1/(1 + np.exp(-x))\n",
        "\n",
        "def derivative(x) :\n",
        "  return x * (1-x)\n",
        "\n",
        "for i in range(iterations) :\n",
        "  hidden_o = sigmoid(np.dot(X, hidden_w) + hidden_b)\n",
        "  output_o = sigmoid(np.dot(hidden_o, output_w) + output_b)\n",
        "\n",
        "  Eo = y-output_o\n",
        "  outgrad = derivative(output_o)\n",
        "  d_output = Eo * outgrad\n",
        "\n",
        "  Eh = d_output.dot(output_w.T)\n",
        "  hidgrad = derivative(hidden_o)\n",
        "  d_hidden = Eh * hidgrad\n",
        "\n",
        "  output_w += hidden_o.T.dot(d_output)*error_rate\n",
        "  hidden_w += X.T.dot(d_hidden)*error_rate\n",
        "\n",
        "print(output_o)"
      ],
      "execution_count": null,
      "outputs": []
    },
    {
      "cell_type": "code",
      "metadata": {
        "id": "1nVfmdMk2DKr"
      },
      "source": [
        "import pandas as pd\n",
        "import numpy as np\n",
        "import matplotlib.pyplot as plt\n",
        "from sklearn.linear_model import LinearRegression\n",
        "from sklearn.metrics import mean_squared_error,r2_score\n",
        "from sklearn.model_selection import train_test_split\n",
        "data = pd.read_csv(\"Advertising.csv\")\n",
        "data.head()\n",
        "data.columns\n",
        "data.drop(['Unnamed: 0'], axis=1)\n",
        "plt.figure(figsize=(16, 8))\n",
        "plt.scatter(\n",
        " data['TV'],\n",
        " data['sales'],\n",
        " c='black'\n",
        ")\n",
        "plt.xlabel(\"Money spent on TV ads ($)\")\n",
        "plt.ylabel(\"Sales ($)\")\n",
        "plt.show()\n",
        "X = data['TV'].values.reshape(-1,1)\n",
        "y = data['sales'].values.reshape(-1,1)\n",
        "x_train, x_test, y_train, y_test = train_test_split(X,y,test_size = 0.3)\n",
        "reg = LinearRegression()\n",
        "reg.fit(x_train, y_train)\n",
        "print(\"Slope: \",reg.coef_[0][0])\n",
        "print(\"Intercept: \",reg.intercept_[0])\n",
        "print(\"The linear model is: Y = {:.5} + {:.5}X\".format(reg.intercept_[0], reg.coef_[0][0]))\n",
        "predictions = reg.predict(x_test)\n",
        "plt.figure(figsize=(16, 8))\n",
        "plt.scatter(\n",
        " x_test,\n",
        " y_test,\n",
        " c='black'\n",
        ")\n",
        "plt.plot(\n",
        " x_test,\n",
        " predictions,\n",
        " c='blue',\n",
        " linewidth=2\n",
        ")\n",
        "plt.xlabel(\"Money spent on TV ads ($)\")\n",
        "plt.ylabel(\"Sales ($)\")\n",
        "plt.show()\n",
        "rmse = np.sqrt(mean_squared_error(y_test,predictions))\n",
        "print(\"Root Mean Squared Error = \",rmse)\n",
        "r2 = r2_score(y_test,predictions)\n",
        "print(\"R2 = \",r2)"
      ],
      "execution_count": null,
      "outputs": []
    },
    {
      "cell_type": "code",
      "metadata": {
        "id": "LgovTuO5-k9w"
      },
      "source": [
        "import numpy as np\n",
        "import pandas as pd\n",
        "import math\n",
        "import operator\n",
        "\n",
        "data = pd.read_csv(\"iris.csv\")\n",
        "\n",
        "def distance(data1, data2, length) :\n",
        "  distance = 0\n",
        "  for x in range(length) :\n",
        "    distance += np.square(data1[x]-data2[x])\n",
        "\n",
        "  return np.sqrt(distance)\n",
        "\n",
        "def knn(train, test, k) :\n",
        "  length = test.shape[1]\n",
        "  distances = {}\n",
        "  for x in range(len(train)) :\n",
        "    distances[x] = distance(train.iloc[x], test, length)[0]\n",
        "\n",
        "  sortedDis = sorted(distances.items(), key=operator.itemgetter(1))\n",
        "\n",
        "  votes = {}\n",
        "  for x in range(k) :\n",
        "    target = train.iloc[sortedDis[x]][-1]\n",
        "    if target in votes :\n",
        "      votes[target] += 1\n",
        "    else :\n",
        "      votes[target] = 1\n",
        "\n",
        "  sortedVotes = sorted(votes.items(), key = operator.itemgetter(1), reverse=true)\n",
        "  return(sortedVotes[0][0], sortedDis[:k])\n",
        "\n",
        "testTry = [[7.2,3.4,5.6,7.8]]\n",
        "test = pd.Dataframe(testTry)\n",
        "target, neigh = knn(train, test, 5)"
      ],
      "execution_count": null,
      "outputs": []
    },
    {
      "cell_type": "code",
      "metadata": {
        "id": "THLv1d2oBtKP"
      },
      "source": [
        "import nupmy as np\n",
        "import pandas as pd\n",
        "import matplotpib.pyplot as plt\n",
        "from sklearn.cluster import KMeans\n",
        "\n",
        "df = pd.read_csv(\"iris.csv\")\n",
        "x = df.iloc[:, [0,1,2,3]].values\n",
        "\n",
        "kMeansTry = KMeans(n_clusters= 2)\n",
        "out = kMeansTry.fit_predict(x)\n",
        "print(out)\n",
        "\n",
        "kMeansTry.cluster_centers_\n",
        "\n",
        "error = []\n",
        "for x in range(1,11) :\n",
        "  kMeans = KMeans(N_clusters=x).fit(x)\n",
        "  kMeans.fit(x)\n",
        "  error.append(kMeans.inertia_)\n",
        "\n",
        "plt.plot(range(1,11), error)\n",
        "plt.title(\"elbow\")\n",
        "plt.xlabel(\"clusters\")\n",
        "plt.ylabel(\"error\")\n",
        "plt.show()"
      ],
      "execution_count": null,
      "outputs": []
    },
    {
      "cell_type": "code",
      "metadata": {
        "id": "Wv5QDSnINFS5"
      },
      "source": [
        "import numpy as np\n",
        "import pandas as pd\n",
        "\n",
        "x = np.random.randint(10,50,100).reshape(20,5)\n",
        "x_m = x - np.mean(x, axis= 0)\n",
        "x_cov = np.cov(x_m, rowvar=False)\n",
        "eigen_values, eigen_vectors = np.linalg.eigh(x_cov)\n",
        "sorted_ind = np.argsort(eigen_values)[::-1]\n",
        "sorted_eigen_values = eigen_values[sorted_ind]\n",
        "sorted_eigen_vectors = eigen_vectors[:, sorted_ind]\n",
        "n_comp = 5\n",
        "eigen_vectors_sub = sorted_eigen_vectors[:n_comp]\n",
        "x_reduced = np.dot(eigen_vectors_sub.transpose(), x.transpose()).transpose()\n",
        "print(x_reduced)"
      ],
      "execution_count": null,
      "outputs": []
    }
  ]
}